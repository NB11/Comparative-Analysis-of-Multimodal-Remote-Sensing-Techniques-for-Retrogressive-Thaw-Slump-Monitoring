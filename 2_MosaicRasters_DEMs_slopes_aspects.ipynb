{
 "cells": [
  {
   "cell_type": "code",
   "execution_count": null,
   "metadata": {},
   "outputs": [],
   "source": [
    "# Raster Data for egions is merged, creating one raster for the diff DEMs, the slopes and the aspect of the region"
   ]
  },
  {
   "cell_type": "code",
   "execution_count": 2,
   "metadata": {},
   "outputs": [
    {
     "name": "stdout",
     "output_type": "stream",
     "text": [
      "Merging DEMs\n",
      "Merging SAR\n",
      "Merging DEMs\n",
      "Merging SAR\n",
      "Merging DEMs\n",
      "Merging SAR\n",
      "Merging DEMs\n",
      "Merging SAR\n",
      "Merging DEMs\n",
      "Merging SAR\n",
      "Merging DEMs\n",
      "Merging SAR\n",
      "Merging DEMs\n",
      "Merging SAR\n",
      "Merging DEMs\n",
      "Merging SAR\n",
      "Merging DEMs\n",
      "Merging SAR\n",
      "Merging DEMs\n",
      "Merging SAR\n",
      "Merging DEMs\n",
      "Merging SAR\n"
     ]
    },
    {
     "name": "stderr",
     "output_type": "stream",
     "text": [
      "c:\\Users\\Noe\\anaconda3\\envs\\geo_env\\Lib\\site-packages\\osgeo\\gdal.py:312: FutureWarning: Neither gdal.UseExceptions() nor gdal.DontUseExceptions() has been explicitly called. In GDAL 4.0, exceptions will be enabled by default.\n",
      "  warnings.warn(\n"
     ]
    }
   ],
   "source": [
    "import glob\n",
    "import geopandas as gpd\n",
    "import rasterio\n",
    "from rasterio.merge import merge\n",
    "from shapely.geometry import box\n",
    "import numpy as np\n",
    "\n",
    "def merge_rasters_and_create_boundary(type, region, year_start, year_end, output_suffix, description):\n",
    "    # Define paths\n",
    "    paths = f\"DEM_rasters/DEM Raster/{region}/*\"  # Forward slashes for paths\n",
    "    fileList = glob.glob(f'{paths}/{type}_*_{year_start}_*_{year_end}_*.tif')\n",
    "\n",
    "    # Merge all rasters\n",
    "    print(f'{region}')\n",
    "    print(f\"Merging {description}\")\n",
    "    src_files_to_mosaic = [rasterio.open(item) for item in fileList]\n",
    "\n",
    "    # Merge rasters, ignoring nodata values set as np.nan\n",
    "    mosaic, out_trans = merge(src_files_to_mosaic, nodata=np.nan)\n",
    "\n",
    "    # Define and write the output raster file\n",
    "    output_path = f\"DEM_rasters/DEM_raster_combined/{region}/{output_suffix}_{region}_{year_start}_A_{year_end}.tif\"\n",
    "    out_meta = src_files_to_mosaic[0].meta.copy()\n",
    "    out_meta.update({\"driver\": \"GTiff\", \"height\": mosaic.shape[1], \"width\": mosaic.shape[2],\n",
    "                     \"transform\": out_trans, \"nodata\": np.nan})\n",
    "    with rasterio.open(output_path, \"w\", **out_meta) as dest:\n",
    "        dest.write(mosaic)\n",
    "\n",
    "    # Create boundary if it's a DEM type\n",
    "    if type == 'diff_dem':\n",
    "        bounds = box(*rasterio.transform.array_bounds(out_meta['height'], out_meta['width'], out_meta['transform']))\n",
    "        gdf = gpd.GeoDataFrame(geometry=[bounds], crs=src_files_to_mosaic[0].crs)\n",
    "        gdf.to_file(f\"DEM_rasters/DEM_boundries_shapes/{region}/DEM_shape_{region}_{year_start}_A_{year_end}.geojson\", driver='GeoJSON')\n",
    "\n",
    "def merge_terrain_attributes(attribute, regions):\n",
    "    for region in regions:\n",
    "        paths = f\"terrain_attributes/{region}/*/{attribute}_*.tif\"\n",
    "        fileList = glob.glob(paths)\n",
    "        output = f\"terrain_attributes/{region}_{attribute}s.tif\"\n",
    "        gdal.Warp(output, fileList, format='GTiff')\n",
    "\n",
    "# Configuration for regions and years\n",
    "regions_years = {\n",
    "    'peel': [('2010', '2016'), ('2011', '2016'), ('2010', '2021'), ('2011', '2021'), ('2013', '2021')],\n",
    "    'kolguev': [('2010', '2017')],\n",
    "    'herschel': [('2010', '2017'), ('2010', '2018'), ('2010', '2020')],\n",
    "    'gydan': [('2010', '2020'), ('2010', '2021')]\n",
    "}\n",
    "\n",
    "# Process DEM and SAR for each region and year\n",
    "for region, year_pairs in regions_years.items():\n",
    "    for year_start, year_end in year_pairs:\n",
    "        merge_rasters_and_create_boundary('diff_dem', region, year_start, year_end, 'DEM_merged', 'DEMs')\n",
    "        merge_rasters_and_create_boundary('sar_mask', region, year_start, year_end, 'SAR_merged', 'SAR')\n",
    "\n",
    "# Merge aspect and slope mosaics\n",
    "merge_terrain_attributes('aspect', ['herschel', 'peel', 'kolguev', 'gydan'])\n",
    "merge_terrain_attributes('slope', ['herschel', 'peel', 'kolguev', 'gydan'])\n"
   ]
  }
 ],
 "metadata": {
  "kernelspec": {
   "display_name": "geo_env",
   "language": "python",
   "name": "python3"
  },
  "language_info": {
   "codemirror_mode": {
    "name": "ipython",
    "version": 3
   },
   "file_extension": ".py",
   "mimetype": "text/x-python",
   "name": "python",
   "nbconvert_exporter": "python",
   "pygments_lexer": "ipython3",
   "version": "3.12.2"
  }
 },
 "nbformat": 4,
 "nbformat_minor": 2
}
