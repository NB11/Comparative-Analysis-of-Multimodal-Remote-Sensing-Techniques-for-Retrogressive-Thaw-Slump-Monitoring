{
 "cells": [
  {
   "cell_type": "code",
   "execution_count": 1,
   "metadata": {},
   "outputs": [],
   "source": [
    "# 10 by 10 meter Raterization for diff DEM labels. Labels from Kathrin Maier are appended "
   ]
  },
  {
   "cell_type": "code",
   "execution_count": 2,
   "metadata": {},
   "outputs": [],
   "source": [
    "from osgeo import gdal\n",
    "from shapely.geometry import Polygon\n",
    "import geopandas as gpd\n",
    "import rasterio\n",
    "from rasterio.features import shapes\n",
    "import numpy as np\n",
    "import pandas as pd"
   ]
  },
  {
   "cell_type": "code",
   "execution_count": 3,
   "metadata": {},
   "outputs": [],
   "source": [
    "def rasterize_geojson(input_file, output_file, raster_extent): # Add raster_extent\n",
    "    gdal.Rasterize(output_file, input_file, burnValues=[1], outputBounds=raster_extent, # add outputBounds\n",
    "                   outputType=gdal.GDT_Byte, creationOptions=[\"COMPRESS=DEFLATE\"], noData=255, initValues=0, xRes=10, yRes=-10, allTouched=True)\n",
    "\n",
    "def polygonize_raster(input_file, output_file, year_start, year_end):\n",
    "    with rasterio.open(input_file) as src:\n",
    "        image = src.read(1)\n",
    "        transform = src.transform\n",
    "        polygons = []\n",
    "        for shape, value in shapes(image, transform=transform):\n",
    "            if value == 1.0:\n",
    "                polygons.append(Polygon(tuple(shape['coordinates'][0])))\n",
    "        gdf = gpd.GeoDataFrame({'geometry': polygons}, crs=\"EPSG:3413\")\n",
    "        gdf[\"year_start\"] = year_start\n",
    "        gdf[\"year_end\"] = year_end\n",
    "        gdf[\"type\"] = \"\"\n",
    "        gdf.to_file(output_file, driver='GeoJSON', crs=\"EPSG:3413\")\n",
    "        src.close()\n",
    "\n",
    "        \n",
    "def rasterize_labels(DEM_all, filepath, area_name, year_start, raster_extent): # add raster_extent\n",
    "    years_end = DEM_all[\"year_end\"].unique()\n",
    "\n",
    "    for year in years_end:\n",
    "\n",
    "        DEM_year = DEM_all[DEM_all[\"year_end\"] == year]\n",
    "        DEM_year.to_file(f'{filepath}_DEM_labels_noe_{year}.geojson', driver='GeoJSON')\n",
    "\n",
    "        rasterize_geojson(f'{filepath}_DEM_labels_noe_{year}.geojson', f'{filepath}_temp_rast.tif', raster_extent) # add raster_extent\n",
    "\n",
    "        input_file = f'{filepath}_temp_rast.tif'\n",
    "        output_file = f'{filepath}_DEM_labels_noe_{year}.geojson'\n",
    "        polygonize_raster(input_file, output_file, year_start, year)\n",
    "\n",
    "    # add multiple geojson files together\n",
    "\n",
    "    #create empty geodataframe\n",
    "    dfs = []\n",
    "\n",
    "    for year in years_end:\n",
    "        DEM_year = gpd.read_file(f'{filepath}_DEM_labels_noe_{year}.geojson')\n",
    "        dfs.append(DEM_year)\n",
    "\n",
    "    merged_gdf = gpd.GeoDataFrame(pd.concat(dfs, ignore_index=True), crs=DEM_all.crs)\n",
    "    merged_gdf = merged_gdf.drop_duplicates(subset=['geometry'])\n",
    "    merged_gdf.to_file(f'labels\\\\DEM_labels\\\\{area_name}_DEM_labels_rasterized.geojson', driver='GeoJSON', crs=\"EPSG:3413\")\n",
    "\n",
    "    import os\n",
    "    os.remove(f'{filepath}_temp_rast.tif')"
   ]
  },
  {
   "cell_type": "code",
   "execution_count": 4,
   "metadata": {},
   "outputs": [
    {
     "name": "stderr",
     "output_type": "stream",
     "text": [
      "c:\\Users\\Noe\\anaconda3\\envs\\geo_env\\Lib\\site-packages\\osgeo\\gdal.py:312: FutureWarning: Neither gdal.UseExceptions() nor gdal.DontUseExceptions() has been explicitly called. In GDAL 4.0, exceptions will be enabled by default.\n",
      "  warnings.warn(\n",
      "c:\\Users\\Noe\\anaconda3\\envs\\geo_env\\Lib\\site-packages\\geopandas\\io\\file.py:633: UserWarning: You are attempting to write an empty DataFrame to file. For some drivers, this operation may fail.\n",
      "  _to_file_fiona(df, filename, driver, schema, crs, mode, **kwargs)\n",
      "c:\\Users\\Noe\\anaconda3\\envs\\geo_env\\Lib\\site-packages\\geopandas\\io\\file.py:633: UserWarning: You are attempting to write an empty DataFrame to file. For some drivers, this operation may fail.\n",
      "  _to_file_fiona(df, filename, driver, schema, crs, mode, **kwargs)\n"
     ]
    }
   ],
   "source": [
    "# Herschel\n",
    "tile_gdf = gpd.read_file(f\"boundries\\\\tiles\\\\tiles_herschel.geojson\", crs=\"EPSG:3413\")\n",
    "raster_extent_herschel = tile_gdf.total_bounds\n",
    "h_DEM_all = gpd.read_file('labels\\\\DEM_labels\\\\herschel_DEM_labels_noe.geojson', crs=\"EPSG:3413\")\n",
    "rasterize_labels(h_DEM_all, 'labels\\\\DEM_labels\\\\rasterized_and_polygonized\\\\herschel\\\\herschel', 'herschel', 2010, raster_extent_herschel)\n",
    "\n",
    "# gydan\n",
    "tile_gdf = gpd.read_file(f\"boundries\\\\tiles\\\\tiles_gydan.geojson\", crs=\"EPSG:3413\")\n",
    "raster_extent_gydan = tile_gdf.total_bounds\n",
    "g_DEM_all = gpd.read_file('labels\\\\DEM_labels\\\\gydan_DEM_labels_noe.geojson', crs=\"EPSG:3413\")\n",
    "rasterize_labels(g_DEM_all, 'labels\\\\DEM_labels\\\\rasterized_and_polygonized\\\\gydan\\\\gydan', 'gydan', 2010, raster_extent_gydan)\n",
    "\n",
    "# kolguev\n",
    "tile_gdf = gpd.read_file(f\"boundries\\\\tiles\\\\tiles_kolguev.geojson\", crs=\"EPSG:3413\")\n",
    "raster_extent_kolguev = tile_gdf.total_bounds\n",
    "k_DEM_all = gpd.read_file('labels\\\\DEM_labels\\\\kolguev_DEM_labels_noe.geojson', crs=\"EPSG:3413\")\n",
    "rasterize_labels(k_DEM_all, 'labels\\\\DEM_labels\\\\rasterized_and_polygonized\\\\kolguev\\\\kolguev', 'kolguev', 2010, raster_extent_kolguev)\n",
    "\n",
    "# peel1\n",
    "tile_gdf = gpd.read_file(f\"boundries\\\\tiles\\\\tiles_peel.geojson\", crs=\"EPSG:3413\")\n",
    "raster_extent_peel = tile_gdf.total_bounds\n",
    "p_DEM_all = gpd.read_file('labels\\\\DEM_labels\\\\peel_DEM_labels_2013_2021.geojson', crs=\"EPSG:3413\")\n",
    "rasterize_labels(p_DEM_all, 'labels\\\\DEM_labels\\\\rasterized_and_polygonized\\\\peel\\\\peel', 'peel', 2013, raster_extent_peel)"
   ]
  },
  {
   "cell_type": "code",
   "execution_count": 5,
   "metadata": {},
   "outputs": [],
   "source": [
    "# Rasterization of Kathrin Maier's labels\n",
    "k_gydan_DEM_labes = gpd.read_file('labels\\\\DEM_labels\\\\kathrin\\\\gydan_DEM_labels.geojson')\n",
    "rasterize_labels(k_gydan_DEM_labes, 'labels\\\\DEM_labels\\\\kathrin\\\\gydan', 'kathrin_gydan', 2010,raster_extent_gydan)\n",
    "\n",
    "k_peel_DEM_labes = gpd.read_file('labels\\\\DEM_labels\\\\kathrin\\\\peel_DEM_labels.geojson')\n",
    "k_peel_DEM_labes_2010 = k_peel_DEM_labes[k_peel_DEM_labes[\"year_start\"] == \"2010\"]\n",
    "rasterize_labels(k_peel_DEM_labes_2010, 'labels\\\\DEM_labels\\\\kathrin\\\\peel', 'kathrin_peel10', 2010,raster_extent_peel)\n",
    "\n",
    "k_peel_DEM_labes_2011 = k_peel_DEM_labes[k_peel_DEM_labes[\"year_start\"] == '2011']\n",
    "rasterize_labels(k_peel_DEM_labes_2011, 'labels\\\\DEM_labels\\\\kathrin\\\\peel', 'kathrin_peel11', 2011,raster_extent_peel)"
   ]
  },
  {
   "cell_type": "code",
   "execution_count": 6,
   "metadata": {},
   "outputs": [],
   "source": [
    "import geopandas as gpd\n",
    "\n",
    "# Read Kathrin Maier's Peel Labels\n",
    "\n",
    "kathrin_gdf = gpd.read_file('labels\\\\DEM_labels\\\\kathrin_peel10_DEM_labels_rasterized.geojson')\n",
    "kathrin_gdf2 = gpd.read_file('labels\\\\DEM_labels\\\\kathrin_peel11_DEM_labels_rasterized.geojson')\n",
    "\n",
    "# Concatenate the two GeoDataFrames\n",
    "kathrin_gdf = gpd.GeoDataFrame(pd.concat([kathrin_gdf, kathrin_gdf2], ignore_index=True), crs=kathrin_gdf.crs)\n",
    "kathrin_gdf.to_file('labels\\\\DEM_labels\\\\k_peel_DEM_labels_rasterized.geojson', driver='GeoJSON')\n"
   ]
  },
  {
   "cell_type": "code",
   "execution_count": null,
   "metadata": {},
   "outputs": [],
   "source": [
    "\n",
    "# Append \n",
    "\n",
    "# Peel\n",
    "k_peel_DEM_labes = gpd.read_file('labels\\\\DEM_labels\\\\k_peel_DEM_labels_rasterized.geojson')\n",
    "peel_DEM_labels_rasterized = gpd.read_file('labels/DEM_labels/peel_DEM_labels_rasterized.geojson')\n",
    "\n",
    "# add together\n",
    "peel_DEM_labels_rasterized = gpd.GeoDataFrame(pd.concat([peel_DEM_labels_rasterized, k_peel_DEM_labes], ignore_index=True), crs=peel_DEM_labels_rasterized.crs)\n",
    "\n",
    "# gydan\n",
    "k_gydan_DEM_labes = gpd.read_file('labels\\\\DEM_labels\\\\kathrin_gydan_DEM_labels_rasterized.geojson')\n",
    "gydan_DEM_labels_rasterized = gpd.read_file('labels/DEM_labels/gydan_DEM_labels_rasterized.geojson')\n",
    "\n",
    "# add together\n",
    "gydan_DEM_labels_rasterized = gpd.GeoDataFrame(pd.concat([k_gydan_DEM_labes, gydan_DEM_labels_rasterized], ignore_index=True), crs=peel_DEM_labels_rasterized.crs)\n",
    "\n",
    "\n",
    "# save\n",
    "peel_DEM_labels_rasterized.to_file('labels/DEM_labels/peel_DEM_labels_rasterized.geojson', driver='GeoJSON')\n",
    "gydan_DEM_labels_rasterized.to_file('labels/DEM_labels/gydan_DEM_labels_rasterized.geojson', driver='GeoJSON')\n"
   ]
  }
 ],
 "metadata": {
  "kernelspec": {
   "display_name": "base",
   "language": "python",
   "name": "python3"
  },
  "language_info": {
   "codemirror_mode": {
    "name": "ipython",
    "version": 3
   },
   "file_extension": ".py",
   "mimetype": "text/x-python",
   "name": "python",
   "nbconvert_exporter": "python",
   "pygments_lexer": "ipython3",
   "version": "3.12.2"
  }
 },
 "nbformat": 4,
 "nbformat_minor": 2
}
