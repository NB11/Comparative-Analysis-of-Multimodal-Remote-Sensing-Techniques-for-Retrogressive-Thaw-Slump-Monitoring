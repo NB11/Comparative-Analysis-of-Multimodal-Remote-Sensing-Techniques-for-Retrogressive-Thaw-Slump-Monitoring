{
 "cells": [
  {
   "cell_type": "markdown",
   "metadata": {},
   "source": [
    "#### Results Preparation for Plotting\n"
   ]
  },
  {
   "cell_type": "code",
   "execution_count": 1,
   "metadata": {},
   "outputs": [],
   "source": [
    "import pandas as pd\n",
    "import geopandas as gpd\n",
    "from shapely.geometry import Point, Polygon\n",
    "import rasterio as rio\n",
    "from mpl_toolkits.basemap import Basemap  \n",
    "import matplotlib.pyplot as plt\n",
    "from shapely.ops import unary_union   \n",
    "import os\n",
    "import glob\n",
    "from geopandas.tools import overlay\n"
   ]
  },
  {
   "cell_type": "markdown",
   "metadata": {},
   "source": [
    "##### Make Data Ready"
   ]
  },
  {
   "cell_type": "code",
   "execution_count": 2,
   "metadata": {},
   "outputs": [],
   "source": [
    "# Append all gdf for easy management\n",
    "# Create empty GeoDataFrames for each type\n",
    "all_DEM_labels_results = gpd.GeoDataFrame()\n",
    "all_OP_labels_results = gpd.GeoDataFrame()\n",
    "all_OT_labels_results = gpd.GeoDataFrame()\n",
    "\n",
    "types = ['DEM', 'OP', 'OT']\n",
    "regions = ['herschel', 'peel', 'kolguev', 'gydan']\n",
    "\n",
    "for type_ in types:\n",
    "    for region in regions:\n",
    "        # Read the data\n",
    "        data = gpd.read_file(f'Results\\\\all\\\\{region}_{type_}_labels_results.geojson')\n",
    "\n",
    "        # Append the data to the corresponding GeoDataFrame\n",
    "        if type_ == 'DEM':\n",
    "            all_DEM_labels_results = pd.concat([all_DEM_labels_results, data], ignore_index=True)\n",
    "        elif type_ == 'OP':\n",
    "            all_OP_labels_results = pd.concat([all_OP_labels_results, data], ignore_index=True)\n",
    "        elif type_ == 'OT':\n",
    "            all_OT_labels_results = pd.concat([all_OT_labels_results, data], ignore_index=True)\n",
    "\n",
    "all_OP_labels_results.drop(columns=['level_0', 'level_1'], inplace=True)\n",
    "all_OT_labels_results.drop(columns=['level_0', 'level_1'], inplace=True)"
   ]
  },
  {
   "cell_type": "code",
   "execution_count": 3,
   "metadata": {},
   "outputs": [],
   "source": [
    "# Create gdf for all DEM and all Optical Training which are in overlapping study area\n",
    "all_fps = gpd.GeoDataFrame()\n",
    "\n",
    "for region in regions:\n",
    "    files = glob.glob(f'Results\\\\{region}\\\\Footprints\\\\footprint_{region}_*.geojson')\n",
    "\n",
    "    for file in files:\n",
    "        # Extract region and year from the filename\n",
    "        filename = os.path.basename(file)\n",
    "        year = filename.split('_')[-1].split('.')[0][-4:]\n",
    "        \n",
    "        fp = gpd.read_file(file)\n",
    "        \n",
    "        # Add columns for region and year\n",
    "        fp['Region'] = region\n",
    "        fp['Year'] = year\n",
    "        \n",
    "        all_fps = pd.concat([all_fps, fp], ignore_index=True)\n",
    "\n",
    "# Create a single footprint\n",
    "fps_union = unary_union(all_fps.geometry)\n",
    "\n",
    "# Save the resulting footprints\n",
    "all_fps.to_file('Plotting\\\\boundries\\\\all_footprints.geojson', driver='GeoJSON')\n",
    "\n",
    "# Convert DataFrame to GeoDataFrame and set CRS\n",
    "all_DEM_labels_results_gdf = gpd.GeoDataFrame(all_DEM_labels_results, geometry='geometry', crs='EPSG:3413')\n",
    "\n",
    "# Perform overlay operation to retain attributes\n",
    "intersected_dem_labels = overlay(all_DEM_labels_results_gdf, gpd.GeoDataFrame(geometry=[fps_union], crs='EPSG:3413'), how='intersection')\n",
    "\n",
    "# Save the resulting intersected DEM labels\n",
    "intersected_dem_labels.to_file('Plotting\\\\labels\\\\common_DEM_labels.geojson', driver='GeoJSON')\n"
   ]
  },
  {
   "cell_type": "code",
   "execution_count": 4,
   "metadata": {},
   "outputs": [],
   "source": [
    "# Save the appended GeoDataFrames for easy comparison\n",
    "all_DEM_labels_results.to_file('Plotting\\\\labels\\\\all_DEM_labels.geojson', driver='GeoJSON')\n",
    "all_OP_labels_results.to_file('Plotting\\\\labels\\\\all_OP_labels.geojson', driver='GeoJSON')\n",
    "\n",
    "intersected_dem_labels.to_file('Plotting\\\\labels\\\\common_DEM_labels.geojson', driver='GeoJSON')\n",
    "all_OT_labels_results.to_file('Plotting\\\\labels\\\\all_OT_labels.geojson', driver='GeoJSON')"
   ]
  },
  {
   "cell_type": "code",
   "execution_count": 5,
   "metadata": {},
   "outputs": [],
   "source": [
    "# Create Common labelling area boundries\n",
    "all_areas = gpd.read_file('Plotting\\\\boundries\\\\all_areas.geojson')\n",
    "all_footprints = gpd.read_file('Plotting\\\\boundries\\\\all_footprints.geojson')\n",
    "\n",
    "common_labelling_area = overlay(all_areas, all_footprints, how='intersection')\n",
    "common_labelling_area.to_file('Plotting\\\\boundries\\\\common_labelling_area.geojson', driver='GeoJSON')"
   ]
  },
  {
   "cell_type": "markdown",
   "metadata": {},
   "source": [
    "  ___________________________________________________________________________________________________________________________________________"
   ]
  }
 ],
 "metadata": {
  "kernelspec": {
   "display_name": "geo_env",
   "language": "python",
   "name": "python3"
  },
  "language_info": {
   "codemirror_mode": {
    "name": "ipython",
    "version": 3
   },
   "file_extension": ".py",
   "mimetype": "text/x-python",
   "name": "python",
   "nbconvert_exporter": "python",
   "pygments_lexer": "ipython3",
   "version": "3.12.2"
  }
 },
 "nbformat": 4,
 "nbformat_minor": 2
}
