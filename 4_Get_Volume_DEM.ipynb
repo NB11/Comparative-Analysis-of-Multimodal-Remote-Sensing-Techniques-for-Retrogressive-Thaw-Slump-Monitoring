{
 "cells": [
  {
   "cell_type": "code",
   "execution_count": 1,
   "metadata": {},
   "outputs": [],
   "source": [
    "# Volume of the diff DEM labels is calculated"
   ]
  },
  {
   "cell_type": "code",
   "execution_count": 2,
   "metadata": {},
   "outputs": [],
   "source": [
    "import numpy as np\n",
    "import geopandas as gpd\n",
    "import pandas as pd\n",
    "import rasterio as rio\n",
    "from rasterio.mask import mask\n",
    "import os"
   ]
  },
  {
   "cell_type": "code",
   "execution_count": 3,
   "metadata": {},
   "outputs": [],
   "source": [
    "\n",
    "def calculate_volume_change(row, diff_dem):\n",
    "    try:\n",
    "        # Create a mask of the DEM using the polygon\n",
    "        out_image, out_transform = mask(diff_dem, [row.geometry], crop=True)\n",
    "\n",
    "        polygon_diff_dem = np.where((out_image > 8000) | (out_image < -500), np.nan, out_image)\n",
    "\n",
    "        # Calculate the total elevation change\n",
    "        total_volume_change = np.nansum(polygon_diff_dem) * 100  # res_x (10 m) * res_y (10 m) * 1 m height change = 100 m^3\n",
    "\n",
    "        return total_volume_change\n",
    "    except ValueError:\n",
    "        # Catch the exception when shapes do not overlap with the raster\n",
    "        return np.nan"
   ]
  },
  {
   "cell_type": "code",
   "execution_count": 9,
   "metadata": {},
   "outputs": [
    {
     "name": "stdout",
     "output_type": "stream",
     "text": [
      "2017\n"
     ]
    }
   ],
   "source": [
    "# Input parameters have to be set manually\n",
    "\n",
    "#  'herschel': [2010],\n",
    "# 'gydan': [2010],\n",
    "# 'peel': [2010, 2011, 2013],\n",
    "# 'kolguev': [2010]\n",
    "\n",
    "# DEM Labels\n",
    "region = 'kolguev'\n",
    "year_start = '2010' # Different for Peel\n",
    "\n",
    "\n",
    "file_path = f\"labels\\\\labels_w_metrics\\\\{region}_DEM_labels_rasterized_SimpleMetrics.geojson\"\n",
    "\n",
    "object = gpd.read_file(file_path)\n",
    "\n",
    "# DEM Directory\n",
    "dem_directory = f\"DEM_rasters\\\\DEM_raster_combined\\\\{region}\\\\DEM_merged_{region}_{year_start}_A_\"\n",
    "\n",
    "import os\n",
    "\n",
    "# split the objects into different groups with the same year_end\n",
    "groups = object.groupby('year_end')\n",
    "merged_groups = []\n",
    "\n",
    "for year_end, group in groups:\n",
    "    year_end = int(year_end)\n",
    "    print(year_end)\n",
    "    \n",
    "    # Check if DEM file exists for the current year\n",
    "    dem_file_path = f\"{dem_directory}{year_end}.tif\"\n",
    "    if not os.path.isfile(dem_file_path):\n",
    "        print(f\"DEM file not found for {year_end}. Skipping...\")\n",
    "        continue\n",
    "    \n",
    "    # Load the DEM\n",
    "    with rio.open(dem_file_path) as dem:\n",
    "        \n",
    "        group['total_volume_change'] = group.apply(lambda row: calculate_volume_change(row, diff_dem=dem), axis=1)\n",
    "    \n",
    "    merged_groups.append(group)\n",
    "\n",
    "# Merge all groups back into one GeoDataFrame\n",
    "merged_object = gpd.GeoDataFrame(pd.concat(merged_groups, ignore_index=True), crs=object.crs)\n",
    "\n",
    "# Save the merged GeoDataFrame to a single file\n",
    "merged_object.to_file(f'Results/{region}/{region}_DEM_labels_results.geojson', driver='GeoJSON')\n",
    "merged_object.to_file(f'Results/all/{region}_DEM_labels_results.geojson', driver='GeoJSON')"
   ]
  }
 ],
 "metadata": {
  "kernelspec": {
   "display_name": "geo_env",
   "language": "python",
   "name": "python3"
  },
  "language_info": {
   "codemirror_mode": {
    "name": "ipython",
    "version": 3
   },
   "file_extension": ".py",
   "mimetype": "text/x-python",
   "name": "python",
   "nbconvert_exporter": "python",
   "pygments_lexer": "ipython3",
   "version": "3.12.2"
  }
 },
 "nbformat": 4,
 "nbformat_minor": 2
}
