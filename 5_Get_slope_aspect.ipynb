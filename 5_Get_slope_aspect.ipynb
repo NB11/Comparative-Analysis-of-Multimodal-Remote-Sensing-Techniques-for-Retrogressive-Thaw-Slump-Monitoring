{
 "cells": [
  {
   "cell_type": "code",
   "execution_count": 1,
   "metadata": {},
   "outputs": [],
   "source": [
    "# For each labels one slope agle, one apsect angle is calculated"
   ]
  },
  {
   "cell_type": "code",
   "execution_count": 2,
   "metadata": {},
   "outputs": [],
   "source": [
    "import numpy as np\n",
    "import geopandas as gpd\n",
    "from shapely.geometry import Polygon, mapping\n",
    "import rasterio\n",
    "from rasterio.features import shapes\n",
    "from rasterio.mask import mask\n",
    "import pandas as pd\n",
    "import geopandas as gpd\n",
    "from shapely.geometry import Point\n",
    "import rasterio as rio\n",
    "from shapely.geometry import Polygon\n",
    "from mpl_toolkits.basemap import Basemap  \n",
    "import matplotlib.pyplot as plt\n",
    "from shapely.ops import unary_union\n",
    "import os\n",
    "import numpy as np\n",
    "import rasterio as rio\n",
    "from shapely.geometry import box"
   ]
  },
  {
   "cell_type": "code",
   "execution_count": 3,
   "metadata": {},
   "outputs": [],
   "source": [
    "def calculate_slope(row, slope_tif):\n",
    "    # Read slope raster\n",
    "    with rasterio.open(slope_tif) as src:\n",
    "        # Mask the raster using the geometry of the row\n",
    "        slope_data, _ = mask(src, [row.geometry], crop=True)\n",
    "    \n",
    "    # Apply condition to filter out extreme slope values and replace them with NaN\n",
    "    slope_data = np.where((slope_data > 90) | (slope_data < 0), np.nan, slope_data)\n",
    "    \n",
    "    # Extract slope values\n",
    "    slope_values = slope_data.flatten()\n",
    "    slope_values = slope_values[~np.isnan(slope_values)]  # Remove NaN values\n",
    "    \n",
    "    # Calculate mean and median slope angles\n",
    "    mean_slope_angle = np.mean(slope_values)\n",
    "    \n",
    "    return mean_slope_angle\n",
    "\n",
    "\n",
    "def calculate_aspect(row, aspect_tif):\n",
    "    # Read aspect raster\n",
    "    with rasterio.open(aspect_tif) as src:\n",
    "        # Mask the raster using the geometry of the row\n",
    "        aspect_data, _ = mask(src, [row.geometry], crop=True)\n",
    "    \n",
    "    # Apply condition to filter out invalid aspect values and replace them with NaN\n",
    "    aspect_data = np.where((aspect_data > 360) | (aspect_data < 0), np.nan, aspect_data)\n",
    "    \n",
    "    # Extract aspect values\n",
    "    aspect_values = aspect_data.flatten()\n",
    "    aspect_values = aspect_values[~np.isnan(aspect_values)]  # Remove NaN values\n",
    "    \n",
    "    # Calculate mean and median aspect angles (in degrees)\n",
    "    mean_aspect_angle = np.z(aspect_values)\n",
    "    \n",
    "    return mean_aspect_angle\n",
    "\n",
    "\n",
    "def calculate_slope_for_objects(objects, slope_tif):\n",
    "    # Iterate over each row (geometry) in the GeoPandas DataFrame and calculate aspect statistics\n",
    "    for index, row in objects.iterrows():\n",
    "        slope_value = calculate_slope(row, slope_tif)\n",
    "        objects.loc[index, 'mean_slope_angle'] = slope_value\n",
    "    return objects\n",
    "\n",
    "def calculate_aspect_for_objects(objects, aspect_tif):\n",
    "    # Iterate over each row (geometry) in the GeoPandas DataFrame and calculate aspect statistics\n",
    "    for index, row in objects.iterrows():\n",
    "        aspect_value = calculate_aspect(row, aspect_tif)\n",
    "        objects.loc[index, 'mean_aspect_angle'] = aspect_value  # Adding mean aspect angle as a new column\n",
    "    return objects"
   ]
  },
  {
   "cell_type": "code",
   "execution_count": 4,
   "metadata": {},
   "outputs": [
    {
     "name": "stdout",
     "output_type": "stream",
     "text": [
      "herschel\n",
      "DEM\n"
     ]
    },
    {
     "ename": "AttributeError",
     "evalue": "module 'numpy' has no attribute 'z'",
     "output_type": "error",
     "traceback": [
      "\u001b[1;31m---------------------------------------------------------------------------\u001b[0m",
      "\u001b[1;31mAttributeError\u001b[0m                            Traceback (most recent call last)",
      "Cell \u001b[1;32mIn[4], line 18\u001b[0m\n\u001b[0;32m     15\u001b[0m \u001b[38;5;66;03m# Calculate mean slope angle for each object\u001b[39;00m\n\u001b[0;32m     16\u001b[0m objects \u001b[38;5;241m=\u001b[39m calculate_slope_for_objects(objects, terrain_directory \u001b[38;5;241m+\u001b[39m \u001b[38;5;124m'\u001b[39m\u001b[38;5;124mslopes.tif\u001b[39m\u001b[38;5;124m'\u001b[39m)\n\u001b[1;32m---> 18\u001b[0m objects \u001b[38;5;241m=\u001b[39m \u001b[43mcalculate_aspect_for_objects\u001b[49m\u001b[43m(\u001b[49m\u001b[43mobjects\u001b[49m\u001b[43m,\u001b[49m\u001b[43m \u001b[49m\u001b[43mterrain_directory\u001b[49m\u001b[43m \u001b[49m\u001b[38;5;241;43m+\u001b[39;49m\u001b[43m \u001b[49m\u001b[38;5;124;43m'\u001b[39;49m\u001b[38;5;124;43maspects.tif\u001b[39;49m\u001b[38;5;124;43m'\u001b[39;49m\u001b[43m)\u001b[49m\n\u001b[0;32m     20\u001b[0m \u001b[38;5;66;03m# Save the modified GeoJSON file\u001b[39;00m\n\u001b[0;32m     21\u001b[0m objects\u001b[38;5;241m.\u001b[39mto_file(output_filepath, driver\u001b[38;5;241m=\u001b[39m\u001b[38;5;124m'\u001b[39m\u001b[38;5;124mGeoJSON\u001b[39m\u001b[38;5;124m'\u001b[39m)\n",
      "Cell \u001b[1;32mIn[3], line 49\u001b[0m, in \u001b[0;36mcalculate_aspect_for_objects\u001b[1;34m(objects, aspect_tif)\u001b[0m\n\u001b[0;32m     46\u001b[0m \u001b[38;5;28;01mdef\u001b[39;00m \u001b[38;5;21mcalculate_aspect_for_objects\u001b[39m(objects, aspect_tif):\n\u001b[0;32m     47\u001b[0m     \u001b[38;5;66;03m# Iterate over each row (geometry) in the GeoPandas DataFrame and calculate aspect statistics\u001b[39;00m\n\u001b[0;32m     48\u001b[0m     \u001b[38;5;28;01mfor\u001b[39;00m index, row \u001b[38;5;129;01min\u001b[39;00m objects\u001b[38;5;241m.\u001b[39miterrows():\n\u001b[1;32m---> 49\u001b[0m         aspect_value \u001b[38;5;241m=\u001b[39m \u001b[43mcalculate_aspect\u001b[49m\u001b[43m(\u001b[49m\u001b[43mrow\u001b[49m\u001b[43m,\u001b[49m\u001b[43m \u001b[49m\u001b[43maspect_tif\u001b[49m\u001b[43m)\u001b[49m\n\u001b[0;32m     50\u001b[0m         objects\u001b[38;5;241m.\u001b[39mloc[index, \u001b[38;5;124m'\u001b[39m\u001b[38;5;124mmean_aspect_angle\u001b[39m\u001b[38;5;124m'\u001b[39m] \u001b[38;5;241m=\u001b[39m aspect_value  \u001b[38;5;66;03m# Adding mean aspect angle as a new column\u001b[39;00m\n\u001b[0;32m     51\u001b[0m     \u001b[38;5;28;01mreturn\u001b[39;00m objects\n",
      "Cell \u001b[1;32mIn[3], line 34\u001b[0m, in \u001b[0;36mcalculate_aspect\u001b[1;34m(row, aspect_tif)\u001b[0m\n\u001b[0;32m     31\u001b[0m aspect_values \u001b[38;5;241m=\u001b[39m aspect_values[\u001b[38;5;241m~\u001b[39mnp\u001b[38;5;241m.\u001b[39misnan(aspect_values)]  \u001b[38;5;66;03m# Remove NaN values\u001b[39;00m\n\u001b[0;32m     33\u001b[0m \u001b[38;5;66;03m# Calculate mean and median aspect angles (in degrees)\u001b[39;00m\n\u001b[1;32m---> 34\u001b[0m mean_aspect_angle \u001b[38;5;241m=\u001b[39m \u001b[43mnp\u001b[49m\u001b[38;5;241;43m.\u001b[39;49m\u001b[43mz\u001b[49m(aspect_values)\n\u001b[0;32m     36\u001b[0m \u001b[38;5;28;01mreturn\u001b[39;00m mean_aspect_angle\n",
      "File \u001b[1;32mc:\\Users\\Noe\\anaconda3\\envs\\geo_env\\Lib\\site-packages\\numpy\\__init__.py:333\u001b[0m, in \u001b[0;36m__getattr__\u001b[1;34m(attr)\u001b[0m\n\u001b[0;32m    330\u001b[0m     \u001b[38;5;124m\"\u001b[39m\u001b[38;5;124mRemoved in NumPy 1.25.0\u001b[39m\u001b[38;5;124m\"\u001b[39m\n\u001b[0;32m    331\u001b[0m     \u001b[38;5;28;01mraise\u001b[39;00m \u001b[38;5;167;01mRuntimeError\u001b[39;00m(\u001b[38;5;124m\"\u001b[39m\u001b[38;5;124mTester was removed in NumPy 1.25.\u001b[39m\u001b[38;5;124m\"\u001b[39m)\n\u001b[1;32m--> 333\u001b[0m \u001b[38;5;28;01mraise\u001b[39;00m \u001b[38;5;167;01mAttributeError\u001b[39;00m(\u001b[38;5;124m\"\u001b[39m\u001b[38;5;124mmodule \u001b[39m\u001b[38;5;132;01m{!r}\u001b[39;00m\u001b[38;5;124m has no attribute \u001b[39m\u001b[38;5;124m\"\u001b[39m\n\u001b[0;32m    334\u001b[0m                      \u001b[38;5;124m\"\u001b[39m\u001b[38;5;132;01m{!r}\u001b[39;00m\u001b[38;5;124m\"\u001b[39m\u001b[38;5;241m.\u001b[39mformat(\u001b[38;5;18m__name__\u001b[39m, attr))\n",
      "\u001b[1;31mAttributeError\u001b[0m: module 'numpy' has no attribute 'z'"
     ]
    }
   ],
   "source": [
    "regions = ['herschel', 'gydan', 'peel', 'kolguev']  # Add more regions if needed\n",
    "types = ['DEM', 'OP', 'OT']\n",
    "\n",
    "for region in regions:\n",
    "    print(region)\n",
    "    for type in types:\n",
    "        print(type)\n",
    "        input_filepath = f'Results\\\\all\\\\{region}_{type}_labels_results.geojson'\n",
    "        output_filepath = f'Results\\\\all\\\\{region}_{type}_labels_results.geojson'\n",
    "        terrain_directory = f'terrain_attributes\\\\{region}_'\n",
    "\n",
    "        # Read GeoJSON file\n",
    "        objects = gpd.read_file(input_filepath)\n",
    "\n",
    "        # Calculate mean slope angle for each object\n",
    "        objects = calculate_slope_for_objects(objects, terrain_directory + 'slopes.tif')\n",
    "\n",
    "        objects = calculate_aspect_for_objects(objects, terrain_directory + 'aspects.tif')\n",
    "\n",
    "        # Save the modified GeoJSON file\n",
    "        objects.to_file(output_filepath, driver='GeoJSON')\n",
    "        objects.to_file(f'Results\\\\{region}\\\\{region}_{type}_labels_results.geojson', driver='GeoJSON')"
   ]
  }
 ],
 "metadata": {
  "kernelspec": {
   "display_name": "geo_env",
   "language": "python",
   "name": "python3"
  },
  "language_info": {
   "codemirror_mode": {
    "name": "ipython",
    "version": 3
   },
   "file_extension": ".py",
   "mimetype": "text/x-python",
   "name": "python",
   "nbconvert_exporter": "python",
   "pygments_lexer": "ipython3",
   "version": "3.12.2"
  }
 },
 "nbformat": 4,
 "nbformat_minor": 2
}
